{
 "cells": [
  {
   "cell_type": "markdown",
   "id": "c3d5697b-c598-4e68-bc84-f6d80ffdfcfa",
   "metadata": {},
   "source": [
    "# Jing's Sandbox"
   ]
  },
  {
   "cell_type": "markdown",
   "id": "ac213a31-92d2-410d-bdfc-f2a05023b994",
   "metadata": {},
   "source": [
    "## Set up notes"
   ]
  },
  {
   "cell_type": "markdown",
   "id": "5c1917b0-b512-4172-8d75-59fd1fd8d29d",
   "metadata": {},
   "source": [
    "To set up virtual environments, follow instructions here: https://packaging.python.org/en/latest/guides/installing-using-pip-and-virtual-environments/\n",
    "\n",
    "Then create kernel: \n",
    "```ipython kernel install --name \"local-venv\" --user```\n",
    "\n",
    "May run into errors caused by package version conflicts. Upgrading Python to v3.9 then updating alias resolved issues for me:\n",
    "\n",
    "```pyenv install 3.9.17```\n",
    "\n",
    "```pyenv global 3.9.17```\n",
    "\n",
    "```alias python='/usr/local/bin/python3.9'```\n",
    "\n",
    "Set up HuggingFace following instructions here: https://huggingface.co/docs/transformers/installation\n",
    "\n",
    "```import pipeline``` didn't work.\n",
    "\n",
    "If ```transformers``` doesn't work in Terminal, try install with ```python -m pip install transformers``` rather than just ```pip install transformers```.\n",
    "\n",
    "In the local environment, this notebook uses kernel llm."
   ]
  },
  {
   "cell_type": "code",
   "execution_count": 1,
   "id": "78be4bbc-e8ac-41ac-914a-238db273f172",
   "metadata": {},
   "outputs": [
    {
     "name": "stdout",
     "output_type": "stream",
     "text": [
      "Requirement already satisfied: transformers in ./opt/anaconda3/lib/python3.8/site-packages (4.28.1)\n",
      "Requirement already satisfied: filelock in ./.local/lib/python3.8/site-packages (from transformers) (3.12.2)\n",
      "Requirement already satisfied: huggingface-hub<1.0,>=0.11.0 in ./opt/anaconda3/lib/python3.8/site-packages (from transformers) (0.16.4)\n",
      "Requirement already satisfied: numpy>=1.17 in ./opt/anaconda3/lib/python3.8/site-packages (from transformers) (1.24.3)\n",
      "Requirement already satisfied: packaging>=20.0 in ./opt/anaconda3/lib/python3.8/site-packages (from transformers) (21.0)\n",
      "Requirement already satisfied: pyyaml>=5.1 in ./opt/anaconda3/lib/python3.8/site-packages (from transformers) (5.4.1)\n",
      "Requirement already satisfied: regex!=2019.12.17 in ./opt/anaconda3/lib/python3.8/site-packages (from transformers) (2021.7.6)\n",
      "Requirement already satisfied: requests in ./opt/anaconda3/lib/python3.8/site-packages (from transformers) (2.25.1)\n",
      "Requirement already satisfied: tokenizers!=0.11.3,<0.14,>=0.11.1 in ./opt/anaconda3/lib/python3.8/site-packages (from transformers) (0.13.0.dev0)\n",
      "Requirement already satisfied: tqdm>=4.27 in ./opt/anaconda3/lib/python3.8/site-packages (from transformers) (4.65.0)\n",
      "Requirement already satisfied: fsspec in ./opt/anaconda3/lib/python3.8/site-packages (from huggingface-hub<1.0,>=0.11.0->transformers) (2023.6.0)\n",
      "Requirement already satisfied: typing-extensions>=3.7.4.3 in ./opt/anaconda3/lib/python3.8/site-packages (from huggingface-hub<1.0,>=0.11.0->transformers) (3.10.0.0)\n",
      "Requirement already satisfied: pyparsing>=2.0.2 in ./opt/anaconda3/lib/python3.8/site-packages (from packaging>=20.0->transformers) (2.4.7)\n",
      "Requirement already satisfied: chardet<5,>=3.0.2 in ./opt/anaconda3/lib/python3.8/site-packages (from requests->transformers) (4.0.0)\n",
      "Requirement already satisfied: idna<3,>=2.5 in ./opt/anaconda3/lib/python3.8/site-packages (from requests->transformers) (2.10)\n",
      "Requirement already satisfied: urllib3<1.27,>=1.21.1 in ./opt/anaconda3/lib/python3.8/site-packages (from requests->transformers) (1.26.6)\n",
      "Requirement already satisfied: certifi>=2017.4.17 in ./opt/anaconda3/lib/python3.8/site-packages (from requests->transformers) (2023.5.7)\n",
      "\u001b[33mDEPRECATION: pyodbc 4.0.0-unsupported has a non-standard version number. pip 23.3 will enforce this behaviour change. A possible replacement is to upgrade to a newer version of pyodbc or contact the author to suggest that they release a version with a conforming version number. Discussion can be found at https://github.com/pypa/pip/issues/12063\u001b[0m\u001b[33m\n",
      "\u001b[0m"
     ]
    }
   ],
   "source": [
    "!pip install transformers"
   ]
  },
  {
   "cell_type": "code",
   "execution_count": 2,
   "id": "3bc3febb-b354-45f1-bfe5-601c0c5961fb",
   "metadata": {},
   "outputs": [
    {
     "name": "stdout",
     "output_type": "stream",
     "text": [
      "Requirement already satisfied: transformers[torch] in ./opt/anaconda3/lib/python3.8/site-packages (4.28.1)\n",
      "Requirement already satisfied: filelock in ./.local/lib/python3.8/site-packages (from transformers[torch]) (3.12.2)\n",
      "Requirement already satisfied: huggingface-hub<1.0,>=0.11.0 in ./opt/anaconda3/lib/python3.8/site-packages (from transformers[torch]) (0.16.4)\n",
      "Requirement already satisfied: numpy>=1.17 in ./opt/anaconda3/lib/python3.8/site-packages (from transformers[torch]) (1.24.3)\n",
      "Requirement already satisfied: packaging>=20.0 in ./opt/anaconda3/lib/python3.8/site-packages (from transformers[torch]) (21.0)\n",
      "Requirement already satisfied: pyyaml>=5.1 in ./opt/anaconda3/lib/python3.8/site-packages (from transformers[torch]) (5.4.1)\n",
      "Requirement already satisfied: regex!=2019.12.17 in ./opt/anaconda3/lib/python3.8/site-packages (from transformers[torch]) (2021.7.6)\n",
      "Requirement already satisfied: requests in ./opt/anaconda3/lib/python3.8/site-packages (from transformers[torch]) (2.25.1)\n",
      "Requirement already satisfied: tokenizers!=0.11.3,<0.14,>=0.11.1 in ./opt/anaconda3/lib/python3.8/site-packages (from transformers[torch]) (0.13.0.dev0)\n",
      "Requirement already satisfied: tqdm>=4.27 in ./opt/anaconda3/lib/python3.8/site-packages (from transformers[torch]) (4.65.0)\n",
      "Requirement already satisfied: torch!=1.12.0,>=1.9 in ./opt/anaconda3/lib/python3.8/site-packages (from transformers[torch]) (1.9.0)\n",
      "Requirement already satisfied: fsspec in ./opt/anaconda3/lib/python3.8/site-packages (from huggingface-hub<1.0,>=0.11.0->transformers[torch]) (2023.6.0)\n",
      "Requirement already satisfied: typing-extensions>=3.7.4.3 in ./opt/anaconda3/lib/python3.8/site-packages (from huggingface-hub<1.0,>=0.11.0->transformers[torch]) (3.10.0.0)\n",
      "Requirement already satisfied: pyparsing>=2.0.2 in ./opt/anaconda3/lib/python3.8/site-packages (from packaging>=20.0->transformers[torch]) (2.4.7)\n",
      "Requirement already satisfied: chardet<5,>=3.0.2 in ./opt/anaconda3/lib/python3.8/site-packages (from requests->transformers[torch]) (4.0.0)\n",
      "Requirement already satisfied: idna<3,>=2.5 in ./opt/anaconda3/lib/python3.8/site-packages (from requests->transformers[torch]) (2.10)\n",
      "Requirement already satisfied: urllib3<1.27,>=1.21.1 in ./opt/anaconda3/lib/python3.8/site-packages (from requests->transformers[torch]) (1.26.6)\n",
      "Requirement already satisfied: certifi>=2017.4.17 in ./opt/anaconda3/lib/python3.8/site-packages (from requests->transformers[torch]) (2023.5.7)\n",
      "\u001b[33mDEPRECATION: pyodbc 4.0.0-unsupported has a non-standard version number. pip 23.3 will enforce this behaviour change. A possible replacement is to upgrade to a newer version of pyodbc or contact the author to suggest that they release a version with a conforming version number. Discussion can be found at https://github.com/pypa/pip/issues/12063\u001b[0m\u001b[33m\n",
      "\u001b[0m"
     ]
    }
   ],
   "source": [
    "!pip install 'transformers[torch]'"
   ]
  },
  {
   "cell_type": "code",
   "execution_count": 3,
   "id": "fba1c0e8-8577-46a2-903d-d12289611a3c",
   "metadata": {},
   "outputs": [
    {
     "name": "stdout",
     "output_type": "stream",
     "text": [
      "Requirement already satisfied: transformers[tf-cpu] in ./opt/anaconda3/lib/python3.8/site-packages (4.28.1)\n",
      "Requirement already satisfied: filelock in ./.local/lib/python3.8/site-packages (from transformers[tf-cpu]) (3.12.2)\n",
      "Requirement already satisfied: huggingface-hub<1.0,>=0.11.0 in ./opt/anaconda3/lib/python3.8/site-packages (from transformers[tf-cpu]) (0.16.4)\n",
      "Requirement already satisfied: numpy>=1.17 in ./opt/anaconda3/lib/python3.8/site-packages (from transformers[tf-cpu]) (1.24.3)\n",
      "Requirement already satisfied: packaging>=20.0 in ./opt/anaconda3/lib/python3.8/site-packages (from transformers[tf-cpu]) (21.0)\n",
      "Requirement already satisfied: pyyaml>=5.1 in ./opt/anaconda3/lib/python3.8/site-packages (from transformers[tf-cpu]) (5.4.1)\n",
      "Requirement already satisfied: regex!=2019.12.17 in ./opt/anaconda3/lib/python3.8/site-packages (from transformers[tf-cpu]) (2021.7.6)\n",
      "Requirement already satisfied: requests in ./opt/anaconda3/lib/python3.8/site-packages (from transformers[tf-cpu]) (2.25.1)\n",
      "Requirement already satisfied: tokenizers!=0.11.3,<0.14,>=0.11.1 in ./opt/anaconda3/lib/python3.8/site-packages (from transformers[tf-cpu]) (0.13.0.dev0)\n",
      "Requirement already satisfied: tqdm>=4.27 in ./opt/anaconda3/lib/python3.8/site-packages (from transformers[tf-cpu]) (4.65.0)\n",
      "Collecting tensorflow-cpu<2.13,>=2.4 (from transformers[tf-cpu])\n",
      "  Obtaining dependency information for tensorflow-cpu<2.13,>=2.4 from https://files.pythonhosted.org/packages/17/9a/30f0eb63bd9e690504f300d8b2c5b96b859441b2419197669c71ac04a88c/tensorflow_cpu-2.12.1-cp38-cp38-macosx_10_15_x86_64.whl.metadata\n",
      "  Using cached tensorflow_cpu-2.12.1-cp38-cp38-macosx_10_15_x86_64.whl.metadata (3.2 kB)\n",
      "Collecting onnxconverter-common (from transformers[tf-cpu])\n",
      "  Using cached onnxconverter_common-1.13.0-py2.py3-none-any.whl (83 kB)\n",
      "Collecting tf2onnx (from transformers[tf-cpu])\n",
      "  Using cached tf2onnx-1.14.0-py3-none-any.whl (451 kB)\n",
      "Collecting tensorflow-text<2.13 (from transformers[tf-cpu])\n",
      "  Using cached tensorflow_text-2.12.1-cp38-cp38-macosx_10_9_x86_64.whl (5.9 MB)\n",
      "Collecting keras-nlp>=0.3.1 (from transformers[tf-cpu])\n",
      "  Obtaining dependency information for keras-nlp>=0.3.1 from https://files.pythonhosted.org/packages/b6/43/31296dfcc9ed404f4449f9d99d54471c04122d0a183cd5b15df1fd189492/keras_nlp-0.6.0-py3-none-any.whl.metadata\n",
      "  Using cached keras_nlp-0.6.0-py3-none-any.whl.metadata (5.7 kB)\n",
      "Requirement already satisfied: fsspec in ./opt/anaconda3/lib/python3.8/site-packages (from huggingface-hub<1.0,>=0.11.0->transformers[tf-cpu]) (2023.6.0)\n",
      "Requirement already satisfied: typing-extensions>=3.7.4.3 in ./opt/anaconda3/lib/python3.8/site-packages (from huggingface-hub<1.0,>=0.11.0->transformers[tf-cpu]) (3.10.0.0)\n",
      "Collecting keras-core (from keras-nlp>=0.3.1->transformers[tf-cpu])\n",
      "  Obtaining dependency information for keras-core from https://files.pythonhosted.org/packages/4e/53/58ffc04e861174034485d5cd4a9cdbb95f9788000ed7ca26c784be2a0d32/keras_core-0.1.0-py3-none-any.whl.metadata\n",
      "  Using cached keras_core-0.1.0-py3-none-any.whl.metadata (3.9 kB)\n",
      "Requirement already satisfied: absl-py in ./opt/anaconda3/lib/python3.8/site-packages (from keras-nlp>=0.3.1->transformers[tf-cpu]) (1.4.0)\n",
      "Collecting rich (from keras-nlp>=0.3.1->transformers[tf-cpu])\n",
      "  Obtaining dependency information for rich from https://files.pythonhosted.org/packages/fc/1e/482e5eec0b89b593e81d78f819a9412849814e22225842b598908e7ac560/rich-13.4.2-py3-none-any.whl.metadata\n",
      "  Using cached rich-13.4.2-py3-none-any.whl.metadata (18 kB)\n",
      "Requirement already satisfied: pyparsing>=2.0.2 in ./opt/anaconda3/lib/python3.8/site-packages (from packaging>=20.0->transformers[tf-cpu]) (2.4.7)\n",
      "Requirement already satisfied: astunparse>=1.6.0 in ./opt/anaconda3/lib/python3.8/site-packages (from tensorflow-cpu<2.13,>=2.4->transformers[tf-cpu]) (1.6.3)\n",
      "Requirement already satisfied: flatbuffers>=2.0 in ./opt/anaconda3/lib/python3.8/site-packages (from tensorflow-cpu<2.13,>=2.4->transformers[tf-cpu]) (23.5.26)\n",
      "Requirement already satisfied: gast<=0.4.0,>=0.2.1 in ./opt/anaconda3/lib/python3.8/site-packages (from tensorflow-cpu<2.13,>=2.4->transformers[tf-cpu]) (0.4.0)\n",
      "Requirement already satisfied: google-pasta>=0.1.1 in ./opt/anaconda3/lib/python3.8/site-packages (from tensorflow-cpu<2.13,>=2.4->transformers[tf-cpu]) (0.2.0)\n",
      "Requirement already satisfied: h5py>=2.9.0 in ./opt/anaconda3/lib/python3.8/site-packages (from tensorflow-cpu<2.13,>=2.4->transformers[tf-cpu]) (2.10.0)\n",
      "Collecting jax>=0.3.15 (from tensorflow-cpu<2.13,>=2.4->transformers[tf-cpu])\n",
      "  Using cached jax-0.4.13-py3-none-any.whl\n",
      "Requirement already satisfied: libclang>=13.0.0 in ./opt/anaconda3/lib/python3.8/site-packages (from tensorflow-cpu<2.13,>=2.4->transformers[tf-cpu]) (16.0.6)\n",
      "Requirement already satisfied: opt-einsum>=2.3.2 in ./opt/anaconda3/lib/python3.8/site-packages (from tensorflow-cpu<2.13,>=2.4->transformers[tf-cpu]) (3.3.0)\n",
      "Requirement already satisfied: protobuf!=4.21.0,!=4.21.1,!=4.21.2,!=4.21.3,!=4.21.4,!=4.21.5,<5.0.0dev,>=3.20.3 in ./opt/anaconda3/lib/python3.8/site-packages (from tensorflow-cpu<2.13,>=2.4->transformers[tf-cpu]) (3.20.3)\n",
      "Requirement already satisfied: setuptools in ./opt/anaconda3/lib/python3.8/site-packages (from tensorflow-cpu<2.13,>=2.4->transformers[tf-cpu]) (68.0.0)\n",
      "Requirement already satisfied: six>=1.12.0 in ./opt/anaconda3/lib/python3.8/site-packages (from tensorflow-cpu<2.13,>=2.4->transformers[tf-cpu]) (1.16.0)\n",
      "Requirement already satisfied: termcolor>=1.1.0 in ./opt/anaconda3/lib/python3.8/site-packages (from tensorflow-cpu<2.13,>=2.4->transformers[tf-cpu]) (2.3.0)\n",
      "Requirement already satisfied: wrapt<1.15,>=1.11.0 in ./opt/anaconda3/lib/python3.8/site-packages (from tensorflow-cpu<2.13,>=2.4->transformers[tf-cpu]) (1.12.1)\n",
      "Requirement already satisfied: grpcio<2.0,>=1.24.3 in ./opt/anaconda3/lib/python3.8/site-packages (from tensorflow-cpu<2.13,>=2.4->transformers[tf-cpu]) (1.56.0)\n",
      "Collecting tensorboard<2.13,>=2.12 (from tensorflow-cpu<2.13,>=2.4->transformers[tf-cpu])\n",
      "  Using cached tensorboard-2.12.3-py3-none-any.whl (5.6 MB)\n",
      "Collecting tensorflow-estimator<2.13,>=2.12.0 (from tensorflow-cpu<2.13,>=2.4->transformers[tf-cpu])\n",
      "  Using cached tensorflow_estimator-2.12.0-py2.py3-none-any.whl (440 kB)\n",
      "Collecting keras<2.13,>=2.12.0 (from tensorflow-cpu<2.13,>=2.4->transformers[tf-cpu])\n",
      "  Using cached keras-2.12.0-py2.py3-none-any.whl (1.7 MB)\n",
      "Requirement already satisfied: tensorflow-io-gcs-filesystem>=0.23.1 in ./opt/anaconda3/lib/python3.8/site-packages (from tensorflow-cpu<2.13,>=2.4->transformers[tf-cpu]) (0.32.0)\n",
      "Collecting tensorflow-hub>=0.8.0 (from tensorflow-text<2.13->transformers[tf-cpu])\n",
      "  Obtaining dependency information for tensorflow-hub>=0.8.0 from https://files.pythonhosted.org/packages/30/78/9d5292a2b616901bdb075bbf0c777b293f4140bb48108ac2b33fd716c2eb/tensorflow_hub-0.14.0-py2.py3-none-any.whl.metadata\n",
      "  Using cached tensorflow_hub-0.14.0-py2.py3-none-any.whl.metadata (1.4 kB)\n",
      "Collecting tensorflow<2.13,>=2.12.0 (from tensorflow-text<2.13->transformers[tf-cpu])\n",
      "  Obtaining dependency information for tensorflow<2.13,>=2.12.0 from https://files.pythonhosted.org/packages/b1/be/7cbf692345cceb69350081ba959f11bee82e0bb89e9b593eefa6722e50cd/tensorflow-2.12.1-cp38-cp38-macosx_10_15_x86_64.whl.metadata\n",
      "  Using cached tensorflow-2.12.1-cp38-cp38-macosx_10_15_x86_64.whl.metadata (3.2 kB)\n",
      "Collecting onnx (from onnxconverter-common->transformers[tf-cpu])\n",
      "  Using cached onnx-1.14.0-cp38-cp38-macosx_10_12_x86_64.whl (13.8 MB)\n",
      "Requirement already satisfied: chardet<5,>=3.0.2 in ./opt/anaconda3/lib/python3.8/site-packages (from requests->transformers[tf-cpu]) (4.0.0)\n",
      "Requirement already satisfied: idna<3,>=2.5 in ./opt/anaconda3/lib/python3.8/site-packages (from requests->transformers[tf-cpu]) (2.10)\n",
      "Requirement already satisfied: urllib3<1.27,>=1.21.1 in ./opt/anaconda3/lib/python3.8/site-packages (from requests->transformers[tf-cpu]) (1.26.6)\n",
      "Requirement already satisfied: certifi>=2017.4.17 in ./opt/anaconda3/lib/python3.8/site-packages (from requests->transformers[tf-cpu]) (2023.5.7)\n",
      "Collecting flatbuffers>=2.0 (from tensorflow-cpu<2.13,>=2.4->transformers[tf-cpu])\n",
      "  Using cached flatbuffers-2.0.7-py2.py3-none-any.whl (26 kB)\n",
      "Requirement already satisfied: wheel<1.0,>=0.23.0 in ./opt/anaconda3/lib/python3.8/site-packages (from astunparse>=1.6.0->tensorflow-cpu<2.13,>=2.4->transformers[tf-cpu]) (0.36.2)\n",
      "Collecting ml-dtypes>=0.1.0 (from jax>=0.3.15->tensorflow-cpu<2.13,>=2.4->transformers[tf-cpu])\n",
      "  Obtaining dependency information for ml-dtypes>=0.1.0 from https://files.pythonhosted.org/packages/02/ae/8107b467ae5312be9dd434b818c2aceec7cbd2a1c00b0ed81aeb63d0a4bc/ml_dtypes-0.2.0-cp38-cp38-macosx_10_9_universal2.whl.metadata\n",
      "  Using cached ml_dtypes-0.2.0-cp38-cp38-macosx_10_9_universal2.whl.metadata (20 kB)\n",
      "Collecting scipy>=1.7 (from jax>=0.3.15->tensorflow-cpu<2.13,>=2.4->transformers[tf-cpu])\n",
      "  Using cached scipy-1.10.1-cp38-cp38-macosx_10_9_x86_64.whl (35.0 MB)\n",
      "Requirement already satisfied: importlib-metadata>=4.6 in ./opt/anaconda3/lib/python3.8/site-packages (from jax>=0.3.15->tensorflow-cpu<2.13,>=2.4->transformers[tf-cpu]) (6.8.0)\n",
      "Requirement already satisfied: google-auth<3,>=1.6.3 in ./opt/anaconda3/lib/python3.8/site-packages (from tensorboard<2.13,>=2.12->tensorflow-cpu<2.13,>=2.4->transformers[tf-cpu]) (2.22.0)\n",
      "Requirement already satisfied: google-auth-oauthlib<1.1,>=0.5 in ./opt/anaconda3/lib/python3.8/site-packages (from tensorboard<2.13,>=2.12->tensorflow-cpu<2.13,>=2.4->transformers[tf-cpu]) (1.0.0)\n",
      "Requirement already satisfied: markdown>=2.6.8 in ./opt/anaconda3/lib/python3.8/site-packages (from tensorboard<2.13,>=2.12->tensorflow-cpu<2.13,>=2.4->transformers[tf-cpu]) (3.4.3)\n",
      "Requirement already satisfied: tensorboard-data-server<0.8.0,>=0.7.0 in ./opt/anaconda3/lib/python3.8/site-packages (from tensorboard<2.13,>=2.12->tensorflow-cpu<2.13,>=2.4->transformers[tf-cpu]) (0.7.1)\n",
      "Requirement already satisfied: werkzeug>=1.0.1 in ./opt/anaconda3/lib/python3.8/site-packages (from tensorboard<2.13,>=2.12->tensorflow-cpu<2.13,>=2.4->transformers[tf-cpu]) (1.0.1)\n",
      "Collecting namex (from keras-core->keras-nlp>=0.3.1->transformers[tf-cpu])\n",
      "  Using cached namex-0.0.7-py3-none-any.whl (5.8 kB)\n",
      "Collecting markdown-it-py>=2.2.0 (from rich->keras-nlp>=0.3.1->transformers[tf-cpu])\n",
      "  Obtaining dependency information for markdown-it-py>=2.2.0 from https://files.pythonhosted.org/packages/42/d7/1ec15b46af6af88f19b8e5ffea08fa375d433c998b8a7639e76935c14f1f/markdown_it_py-3.0.0-py3-none-any.whl.metadata\n",
      "  Using cached markdown_it_py-3.0.0-py3-none-any.whl.metadata (6.9 kB)\n",
      "Collecting pygments<3.0.0,>=2.13.0 (from rich->keras-nlp>=0.3.1->transformers[tf-cpu])\n",
      "  Using cached Pygments-2.15.1-py3-none-any.whl (1.1 MB)\n",
      "Collecting typing-extensions>=3.7.4.3 (from huggingface-hub<1.0,>=0.11.0->transformers[tf-cpu])\n",
      "  Using cached typing_extensions-4.5.0-py3-none-any.whl (27 kB)\n",
      "Requirement already satisfied: cachetools<6.0,>=2.0.0 in ./opt/anaconda3/lib/python3.8/site-packages (from google-auth<3,>=1.6.3->tensorboard<2.13,>=2.12->tensorflow-cpu<2.13,>=2.4->transformers[tf-cpu]) (5.3.1)\n",
      "Requirement already satisfied: pyasn1-modules>=0.2.1 in ./opt/anaconda3/lib/python3.8/site-packages (from google-auth<3,>=1.6.3->tensorboard<2.13,>=2.12->tensorflow-cpu<2.13,>=2.4->transformers[tf-cpu]) (0.3.0)\n",
      "Requirement already satisfied: rsa<5,>=3.1.4 in ./opt/anaconda3/lib/python3.8/site-packages (from google-auth<3,>=1.6.3->tensorboard<2.13,>=2.12->tensorflow-cpu<2.13,>=2.4->transformers[tf-cpu]) (4.9)\n",
      "Requirement already satisfied: requests-oauthlib>=0.7.0 in ./opt/anaconda3/lib/python3.8/site-packages (from google-auth-oauthlib<1.1,>=0.5->tensorboard<2.13,>=2.12->tensorflow-cpu<2.13,>=2.4->transformers[tf-cpu]) (1.3.1)\n",
      "Requirement already satisfied: zipp>=0.5 in ./opt/anaconda3/lib/python3.8/site-packages (from importlib-metadata>=4.6->jax>=0.3.15->tensorflow-cpu<2.13,>=2.4->transformers[tf-cpu]) (3.5.0)\n",
      "Collecting mdurl~=0.1 (from markdown-it-py>=2.2.0->rich->keras-nlp>=0.3.1->transformers[tf-cpu])\n",
      "  Using cached mdurl-0.1.2-py3-none-any.whl (10.0 kB)\n",
      "Requirement already satisfied: pyasn1<0.6.0,>=0.4.6 in ./opt/anaconda3/lib/python3.8/site-packages (from pyasn1-modules>=0.2.1->google-auth<3,>=1.6.3->tensorboard<2.13,>=2.12->tensorflow-cpu<2.13,>=2.4->transformers[tf-cpu]) (0.5.0)\n",
      "Requirement already satisfied: oauthlib>=3.0.0 in ./opt/anaconda3/lib/python3.8/site-packages (from requests-oauthlib>=0.7.0->google-auth-oauthlib<1.1,>=0.5->tensorboard<2.13,>=2.12->tensorflow-cpu<2.13,>=2.4->transformers[tf-cpu]) (3.2.2)\n",
      "Using cached keras_nlp-0.6.0-py3-none-any.whl (576 kB)\n",
      "Using cached tensorflow_cpu-2.12.1-cp38-cp38-macosx_10_15_x86_64.whl (230.1 MB)\n",
      "Using cached tensorflow-2.12.1-cp38-cp38-macosx_10_15_x86_64.whl (230.1 MB)\n",
      "Using cached tensorflow_hub-0.14.0-py2.py3-none-any.whl (90 kB)\n",
      "Using cached keras_core-0.1.0-py3-none-any.whl (727 kB)\n",
      "Using cached rich-13.4.2-py3-none-any.whl (239 kB)\n",
      "Using cached markdown_it_py-3.0.0-py3-none-any.whl (87 kB)\n",
      "Using cached ml_dtypes-0.2.0-cp38-cp38-macosx_10_9_universal2.whl (1.2 MB)\n",
      "\u001b[33mDEPRECATION: pyodbc 4.0.0-unsupported has a non-standard version number. pip 23.3 will enforce this behaviour change. A possible replacement is to upgrade to a newer version of pyodbc or contact the author to suggest that they release a version with a conforming version number. Discussion can be found at https://github.com/pypa/pip/issues/12063\u001b[0m\u001b[33m\n",
      "\u001b[0mInstalling collected packages: namex, flatbuffers, typing-extensions, tensorflow-hub, tensorflow-estimator, scipy, pygments, ml-dtypes, mdurl, keras, onnx, markdown-it-py, jax, tf2onnx, rich, onnxconverter-common, tensorboard, tensorflow-cpu, tensorflow, tensorflow-text, keras-core, keras-nlp\n",
      "  Attempting uninstall: flatbuffers\n",
      "    Found existing installation: flatbuffers 23.5.26\n",
      "    Uninstalling flatbuffers-23.5.26:\n",
      "      Successfully uninstalled flatbuffers-23.5.26\n",
      "  Attempting uninstall: typing-extensions\n",
      "    Found existing installation: typing-extensions 3.10.0.0\n",
      "    Uninstalling typing-extensions-3.10.0.0:\n",
      "      Successfully uninstalled typing-extensions-3.10.0.0\n",
      "  Attempting uninstall: tensorflow-estimator\n",
      "    Found existing installation: tensorflow-estimator 2.13.0\n",
      "    Uninstalling tensorflow-estimator-2.13.0:\n",
      "      Successfully uninstalled tensorflow-estimator-2.13.0\n",
      "  Attempting uninstall: scipy\n",
      "    Found existing installation: scipy 1.6.2\n",
      "    Uninstalling scipy-1.6.2:\n",
      "      Successfully uninstalled scipy-1.6.2\n",
      "  Attempting uninstall: pygments\n",
      "    Found existing installation: Pygments 2.9.0\n",
      "    Uninstalling Pygments-2.9.0:\n",
      "      Successfully uninstalled Pygments-2.9.0\n",
      "  Attempting uninstall: keras\n",
      "    Found existing installation: keras 2.13.1\n",
      "    Uninstalling keras-2.13.1:\n",
      "      Successfully uninstalled keras-2.13.1\n",
      "  Attempting uninstall: tensorboard\n",
      "    Found existing installation: tensorboard 2.13.0\n",
      "    Uninstalling tensorboard-2.13.0:\n",
      "      Successfully uninstalled tensorboard-2.13.0\n",
      "  Attempting uninstall: tensorflow\n",
      "    Found existing installation: tensorflow 2.13.0\n",
      "    Uninstalling tensorflow-2.13.0:\n",
      "      Successfully uninstalled tensorflow-2.13.0\n",
      "\u001b[31mERROR: pip's dependency resolver does not currently take into account all the packages that are installed. This behaviour is the source of the following dependency conflicts.\n",
      "spyder 5.0.5 requires pyqt5<5.13, which is not installed.\n",
      "spyder 5.0.5 requires pyqtwebengine<5.13, which is not installed.\u001b[0m\u001b[31m\n",
      "\u001b[0mSuccessfully installed flatbuffers-2.0.7 jax-0.4.13 keras-2.12.0 keras-core-0.1.0 keras-nlp-0.6.0 markdown-it-py-3.0.0 mdurl-0.1.2 ml-dtypes-0.2.0 namex-0.0.7 onnx-1.14.0 onnxconverter-common-1.13.0 pygments-2.15.1 rich-13.4.2 scipy-1.10.1 tensorboard-2.12.3 tensorflow-2.12.1 tensorflow-cpu-2.12.1 tensorflow-estimator-2.12.0 tensorflow-hub-0.14.0 tensorflow-text-2.12.1 tf2onnx-1.14.0 typing-extensions-4.5.0\n"
     ]
    }
   ],
   "source": [
    "!pip install 'transformers[tf-cpu]'"
   ]
  },
  {
   "cell_type": "code",
   "execution_count": 5,
   "id": "5a189f0a-a67d-439d-b62d-381922a1af80",
   "metadata": {},
   "outputs": [
    {
     "name": "stdout",
     "output_type": "stream",
     "text": [
      "Requirement already satisfied: transformers[flax] in ./opt/anaconda3/lib/python3.8/site-packages (4.28.1)\n",
      "Requirement already satisfied: filelock in ./.local/lib/python3.8/site-packages (from transformers[flax]) (3.12.2)\n",
      "Requirement already satisfied: huggingface-hub<1.0,>=0.11.0 in ./opt/anaconda3/lib/python3.8/site-packages (from transformers[flax]) (0.16.4)\n",
      "Requirement already satisfied: numpy>=1.17 in ./opt/anaconda3/lib/python3.8/site-packages (from transformers[flax]) (1.24.3)\n",
      "Requirement already satisfied: packaging>=20.0 in ./opt/anaconda3/lib/python3.8/site-packages (from transformers[flax]) (21.0)\n",
      "Requirement already satisfied: pyyaml>=5.1 in ./opt/anaconda3/lib/python3.8/site-packages (from transformers[flax]) (5.4.1)\n",
      "Requirement already satisfied: regex!=2019.12.17 in ./opt/anaconda3/lib/python3.8/site-packages (from transformers[flax]) (2021.7.6)\n",
      "Requirement already satisfied: requests in ./opt/anaconda3/lib/python3.8/site-packages (from transformers[flax]) (2.25.1)\n",
      "Requirement already satisfied: tokenizers!=0.11.3,<0.14,>=0.11.1 in ./opt/anaconda3/lib/python3.8/site-packages (from transformers[flax]) (0.13.0.dev0)\n",
      "Requirement already satisfied: tqdm>=4.27 in ./opt/anaconda3/lib/python3.8/site-packages (from transformers[flax]) (4.65.0)\n",
      "Requirement already satisfied: jax!=0.3.2,<=0.3.6,>=0.2.8 in ./opt/anaconda3/lib/python3.8/site-packages (from transformers[flax]) (0.3.6)\n",
      "Requirement already satisfied: jaxlib<=0.3.6,>=0.1.65 in ./opt/anaconda3/lib/python3.8/site-packages (from transformers[flax]) (0.3.5)\n",
      "Requirement already satisfied: flax>=0.4.1 in ./opt/anaconda3/lib/python3.8/site-packages (from transformers[flax]) (0.5.3)\n",
      "Requirement already satisfied: optax>=0.0.8 in ./opt/anaconda3/lib/python3.8/site-packages (from transformers[flax]) (0.1.5)\n",
      "Requirement already satisfied: matplotlib in ./opt/anaconda3/lib/python3.8/site-packages (from flax>=0.4.1->transformers[flax]) (3.3.4)\n",
      "Requirement already satisfied: msgpack in ./opt/anaconda3/lib/python3.8/site-packages (from flax>=0.4.1->transformers[flax]) (1.0.2)\n",
      "Requirement already satisfied: rich~=11.1 in ./opt/anaconda3/lib/python3.8/site-packages (from flax>=0.4.1->transformers[flax]) (11.2.0)\n",
      "Requirement already satisfied: tensorstore in ./opt/anaconda3/lib/python3.8/site-packages (from flax>=0.4.1->transformers[flax]) (0.1.40)\n",
      "Requirement already satisfied: typing-extensions>=4.1.1 in ./opt/anaconda3/lib/python3.8/site-packages (from flax>=0.4.1->transformers[flax]) (4.5.0)\n",
      "Requirement already satisfied: fsspec in ./opt/anaconda3/lib/python3.8/site-packages (from huggingface-hub<1.0,>=0.11.0->transformers[flax]) (2023.6.0)\n",
      "Requirement already satisfied: absl-py in ./opt/anaconda3/lib/python3.8/site-packages (from jax!=0.3.2,<=0.3.6,>=0.2.8->transformers[flax]) (1.4.0)\n",
      "Requirement already satisfied: opt-einsum in ./opt/anaconda3/lib/python3.8/site-packages (from jax!=0.3.2,<=0.3.6,>=0.2.8->transformers[flax]) (3.3.0)\n",
      "Requirement already satisfied: scipy>=1.2.1 in ./opt/anaconda3/lib/python3.8/site-packages (from jax!=0.3.2,<=0.3.6,>=0.2.8->transformers[flax]) (1.10.1)\n",
      "Requirement already satisfied: flatbuffers<3.0,>=1.12 in ./opt/anaconda3/lib/python3.8/site-packages (from jaxlib<=0.3.6,>=0.1.65->transformers[flax]) (2.0.7)\n",
      "Requirement already satisfied: chex>=0.1.5 in ./opt/anaconda3/lib/python3.8/site-packages (from optax>=0.0.8->transformers[flax]) (0.1.6)\n",
      "Requirement already satisfied: pyparsing>=2.0.2 in ./opt/anaconda3/lib/python3.8/site-packages (from packaging>=20.0->transformers[flax]) (2.4.7)\n",
      "Requirement already satisfied: chardet<5,>=3.0.2 in ./opt/anaconda3/lib/python3.8/site-packages (from requests->transformers[flax]) (4.0.0)\n",
      "Requirement already satisfied: idna<3,>=2.5 in ./opt/anaconda3/lib/python3.8/site-packages (from requests->transformers[flax]) (2.10)\n",
      "Requirement already satisfied: urllib3<1.27,>=1.21.1 in ./opt/anaconda3/lib/python3.8/site-packages (from requests->transformers[flax]) (1.26.6)\n",
      "Requirement already satisfied: certifi>=2017.4.17 in ./opt/anaconda3/lib/python3.8/site-packages (from requests->transformers[flax]) (2023.5.7)\n",
      "Requirement already satisfied: dm-tree>=0.1.5 in ./opt/anaconda3/lib/python3.8/site-packages (from chex>=0.1.5->optax>=0.0.8->transformers[flax]) (0.1.8)\n",
      "Requirement already satisfied: toolz>=0.9.0 in ./opt/anaconda3/lib/python3.8/site-packages (from chex>=0.1.5->optax>=0.0.8->transformers[flax]) (0.11.1)\n",
      "Requirement already satisfied: colorama<0.5.0,>=0.4.0 in ./opt/anaconda3/lib/python3.8/site-packages (from rich~=11.1->flax>=0.4.1->transformers[flax]) (0.4.4)\n",
      "Requirement already satisfied: commonmark<0.10.0,>=0.9.0 in ./opt/anaconda3/lib/python3.8/site-packages (from rich~=11.1->flax>=0.4.1->transformers[flax]) (0.9.1)\n",
      "Requirement already satisfied: pygments<3.0.0,>=2.6.0 in ./opt/anaconda3/lib/python3.8/site-packages (from rich~=11.1->flax>=0.4.1->transformers[flax]) (2.15.1)\n",
      "Requirement already satisfied: cycler>=0.10 in ./opt/anaconda3/lib/python3.8/site-packages (from matplotlib->flax>=0.4.1->transformers[flax]) (0.10.0)\n",
      "Requirement already satisfied: kiwisolver>=1.0.1 in ./opt/anaconda3/lib/python3.8/site-packages (from matplotlib->flax>=0.4.1->transformers[flax]) (1.3.1)\n",
      "Requirement already satisfied: pillow>=6.2.0 in ./opt/anaconda3/lib/python3.8/site-packages (from matplotlib->flax>=0.4.1->transformers[flax]) (8.3.1)\n",
      "Requirement already satisfied: python-dateutil>=2.1 in ./opt/anaconda3/lib/python3.8/site-packages (from matplotlib->flax>=0.4.1->transformers[flax]) (2.8.2)\n",
      "Requirement already satisfied: six in ./opt/anaconda3/lib/python3.8/site-packages (from cycler>=0.10->matplotlib->flax>=0.4.1->transformers[flax]) (1.16.0)\n",
      "\u001b[33mDEPRECATION: pyodbc 4.0.0-unsupported has a non-standard version number. pip 23.3 will enforce this behaviour change. A possible replacement is to upgrade to a newer version of pyodbc or contact the author to suggest that they release a version with a conforming version number. Discussion can be found at https://github.com/pypa/pip/issues/12063\u001b[0m\u001b[33m\n",
      "\u001b[0m"
     ]
    }
   ],
   "source": [
    "!pip install 'transformers[flax]'"
   ]
  },
  {
   "cell_type": "code",
   "execution_count": 8,
   "id": "3d747a37-54cf-418b-8ae3-b5a7a6dedf7d",
   "metadata": {},
   "outputs": [
    {
     "name": "stdout",
     "output_type": "stream",
     "text": [
      "3.8.8\n"
     ]
    }
   ],
   "source": [
    "from platform import python_version\n",
    "print(python_version())"
   ]
  },
  {
   "cell_type": "code",
   "execution_count": 9,
   "id": "29246dd6-1051-4c78-a7fd-d59546205e73",
   "metadata": {},
   "outputs": [
    {
     "name": "stdout",
     "output_type": "stream",
     "text": [
      "Python 3.8.8\n"
     ]
    }
   ],
   "source": [
    "!python -V"
   ]
  },
  {
   "cell_type": "code",
   "execution_count": 10,
   "id": "a9b3d9a9-3605-4467-8782-6f23d5f0e143",
   "metadata": {},
   "outputs": [
    {
     "name": "stdout",
     "output_type": "stream",
     "text": [
      "Requirement already satisfied: torch in ./opt/anaconda3/lib/python3.8/site-packages (1.9.0)\n",
      "Requirement already satisfied: typing-extensions in ./opt/anaconda3/lib/python3.8/site-packages (from torch) (4.5.0)\n",
      "\u001b[33mDEPRECATION: pyodbc 4.0.0-unsupported has a non-standard version number. pip 23.3 will enforce this behaviour change. A possible replacement is to upgrade to a newer version of pyodbc or contact the author to suggest that they release a version with a conforming version number. Discussion can be found at https://github.com/pypa/pip/issues/12063\u001b[0m\u001b[33m\n",
      "\u001b[0m"
     ]
    }
   ],
   "source": [
    "!pip install torch"
   ]
  },
  {
   "cell_type": "code",
   "execution_count": 11,
   "id": "5fdd60d0-f6e6-4d6f-9141-54068233e37f",
   "metadata": {},
   "outputs": [
    {
     "name": "stdout",
     "output_type": "stream",
     "text": [
      "Requirement already satisfied: tensorflow in ./opt/anaconda3/lib/python3.8/site-packages (2.12.1)\n",
      "Requirement already satisfied: absl-py>=1.0.0 in ./opt/anaconda3/lib/python3.8/site-packages (from tensorflow) (1.4.0)\n",
      "Requirement already satisfied: astunparse>=1.6.0 in ./opt/anaconda3/lib/python3.8/site-packages (from tensorflow) (1.6.3)\n",
      "Requirement already satisfied: flatbuffers>=2.0 in ./opt/anaconda3/lib/python3.8/site-packages (from tensorflow) (2.0.7)\n",
      "Requirement already satisfied: gast<=0.4.0,>=0.2.1 in ./opt/anaconda3/lib/python3.8/site-packages (from tensorflow) (0.4.0)\n",
      "Requirement already satisfied: google-pasta>=0.1.1 in ./opt/anaconda3/lib/python3.8/site-packages (from tensorflow) (0.2.0)\n",
      "Requirement already satisfied: h5py>=2.9.0 in ./opt/anaconda3/lib/python3.8/site-packages (from tensorflow) (2.10.0)\n",
      "Collecting jax>=0.3.15 (from tensorflow)\n",
      "  Using cached jax-0.4.13-py3-none-any.whl\n",
      "Requirement already satisfied: libclang>=13.0.0 in ./opt/anaconda3/lib/python3.8/site-packages (from tensorflow) (16.0.6)\n",
      "Requirement already satisfied: numpy<=1.24.3,>=1.22 in ./opt/anaconda3/lib/python3.8/site-packages (from tensorflow) (1.24.3)\n",
      "Requirement already satisfied: opt-einsum>=2.3.2 in ./opt/anaconda3/lib/python3.8/site-packages (from tensorflow) (3.3.0)\n",
      "Requirement already satisfied: packaging in ./opt/anaconda3/lib/python3.8/site-packages (from tensorflow) (21.0)\n",
      "Requirement already satisfied: protobuf!=4.21.0,!=4.21.1,!=4.21.2,!=4.21.3,!=4.21.4,!=4.21.5,<5.0.0dev,>=3.20.3 in ./opt/anaconda3/lib/python3.8/site-packages (from tensorflow) (3.20.3)\n",
      "Requirement already satisfied: setuptools in ./opt/anaconda3/lib/python3.8/site-packages (from tensorflow) (68.0.0)\n",
      "Requirement already satisfied: six>=1.12.0 in ./opt/anaconda3/lib/python3.8/site-packages (from tensorflow) (1.16.0)\n",
      "Requirement already satisfied: termcolor>=1.1.0 in ./opt/anaconda3/lib/python3.8/site-packages (from tensorflow) (2.3.0)\n",
      "Requirement already satisfied: typing-extensions<4.6.0,>=3.6.6 in ./opt/anaconda3/lib/python3.8/site-packages (from tensorflow) (4.5.0)\n",
      "Requirement already satisfied: wrapt<1.15,>=1.11.0 in ./opt/anaconda3/lib/python3.8/site-packages (from tensorflow) (1.12.1)\n",
      "Requirement already satisfied: grpcio<2.0,>=1.24.3 in ./opt/anaconda3/lib/python3.8/site-packages (from tensorflow) (1.56.0)\n",
      "Requirement already satisfied: tensorboard<2.13,>=2.12 in ./opt/anaconda3/lib/python3.8/site-packages (from tensorflow) (2.12.3)\n",
      "Requirement already satisfied: tensorflow-estimator<2.13,>=2.12.0 in ./opt/anaconda3/lib/python3.8/site-packages (from tensorflow) (2.12.0)\n",
      "Requirement already satisfied: keras<2.13,>=2.12.0 in ./opt/anaconda3/lib/python3.8/site-packages (from tensorflow) (2.12.0)\n",
      "Requirement already satisfied: tensorflow-io-gcs-filesystem>=0.23.1 in ./opt/anaconda3/lib/python3.8/site-packages (from tensorflow) (0.32.0)\n",
      "Requirement already satisfied: wheel<1.0,>=0.23.0 in ./opt/anaconda3/lib/python3.8/site-packages (from astunparse>=1.6.0->tensorflow) (0.36.2)\n",
      "Requirement already satisfied: ml-dtypes>=0.1.0 in ./opt/anaconda3/lib/python3.8/site-packages (from jax>=0.3.15->tensorflow) (0.2.0)\n",
      "Requirement already satisfied: scipy>=1.7 in ./opt/anaconda3/lib/python3.8/site-packages (from jax>=0.3.15->tensorflow) (1.10.1)\n",
      "Requirement already satisfied: importlib-metadata>=4.6 in ./opt/anaconda3/lib/python3.8/site-packages (from jax>=0.3.15->tensorflow) (6.8.0)\n",
      "Requirement already satisfied: google-auth<3,>=1.6.3 in ./opt/anaconda3/lib/python3.8/site-packages (from tensorboard<2.13,>=2.12->tensorflow) (2.22.0)\n",
      "Requirement already satisfied: google-auth-oauthlib<1.1,>=0.5 in ./opt/anaconda3/lib/python3.8/site-packages (from tensorboard<2.13,>=2.12->tensorflow) (1.0.0)\n",
      "Requirement already satisfied: markdown>=2.6.8 in ./opt/anaconda3/lib/python3.8/site-packages (from tensorboard<2.13,>=2.12->tensorflow) (3.4.3)\n",
      "Requirement already satisfied: requests<3,>=2.21.0 in ./opt/anaconda3/lib/python3.8/site-packages (from tensorboard<2.13,>=2.12->tensorflow) (2.25.1)\n",
      "Requirement already satisfied: tensorboard-data-server<0.8.0,>=0.7.0 in ./opt/anaconda3/lib/python3.8/site-packages (from tensorboard<2.13,>=2.12->tensorflow) (0.7.1)\n",
      "Requirement already satisfied: werkzeug>=1.0.1 in ./opt/anaconda3/lib/python3.8/site-packages (from tensorboard<2.13,>=2.12->tensorflow) (1.0.1)\n",
      "Requirement already satisfied: pyparsing>=2.0.2 in ./opt/anaconda3/lib/python3.8/site-packages (from packaging->tensorflow) (2.4.7)\n",
      "Requirement already satisfied: cachetools<6.0,>=2.0.0 in ./opt/anaconda3/lib/python3.8/site-packages (from google-auth<3,>=1.6.3->tensorboard<2.13,>=2.12->tensorflow) (5.3.1)\n",
      "Requirement already satisfied: pyasn1-modules>=0.2.1 in ./opt/anaconda3/lib/python3.8/site-packages (from google-auth<3,>=1.6.3->tensorboard<2.13,>=2.12->tensorflow) (0.3.0)\n",
      "Requirement already satisfied: rsa<5,>=3.1.4 in ./opt/anaconda3/lib/python3.8/site-packages (from google-auth<3,>=1.6.3->tensorboard<2.13,>=2.12->tensorflow) (4.9)\n",
      "Requirement already satisfied: urllib3<2.0 in ./opt/anaconda3/lib/python3.8/site-packages (from google-auth<3,>=1.6.3->tensorboard<2.13,>=2.12->tensorflow) (1.26.6)\n",
      "Requirement already satisfied: requests-oauthlib>=0.7.0 in ./opt/anaconda3/lib/python3.8/site-packages (from google-auth-oauthlib<1.1,>=0.5->tensorboard<2.13,>=2.12->tensorflow) (1.3.1)\n",
      "Requirement already satisfied: zipp>=0.5 in ./opt/anaconda3/lib/python3.8/site-packages (from importlib-metadata>=4.6->jax>=0.3.15->tensorflow) (3.5.0)\n",
      "Requirement already satisfied: chardet<5,>=3.0.2 in ./opt/anaconda3/lib/python3.8/site-packages (from requests<3,>=2.21.0->tensorboard<2.13,>=2.12->tensorflow) (4.0.0)\n",
      "Requirement already satisfied: idna<3,>=2.5 in ./opt/anaconda3/lib/python3.8/site-packages (from requests<3,>=2.21.0->tensorboard<2.13,>=2.12->tensorflow) (2.10)\n",
      "Requirement already satisfied: certifi>=2017.4.17 in ./opt/anaconda3/lib/python3.8/site-packages (from requests<3,>=2.21.0->tensorboard<2.13,>=2.12->tensorflow) (2023.5.7)\n",
      "Requirement already satisfied: pyasn1<0.6.0,>=0.4.6 in ./opt/anaconda3/lib/python3.8/site-packages (from pyasn1-modules>=0.2.1->google-auth<3,>=1.6.3->tensorboard<2.13,>=2.12->tensorflow) (0.5.0)\n",
      "Requirement already satisfied: oauthlib>=3.0.0 in ./opt/anaconda3/lib/python3.8/site-packages (from requests-oauthlib>=0.7.0->google-auth-oauthlib<1.1,>=0.5->tensorboard<2.13,>=2.12->tensorflow) (3.2.2)\n",
      "\u001b[33mDEPRECATION: pyodbc 4.0.0-unsupported has a non-standard version number. pip 23.3 will enforce this behaviour change. A possible replacement is to upgrade to a newer version of pyodbc or contact the author to suggest that they release a version with a conforming version number. Discussion can be found at https://github.com/pypa/pip/issues/12063\u001b[0m\u001b[33m\n",
      "\u001b[0mInstalling collected packages: jax\n",
      "  Attempting uninstall: jax\n",
      "    Found existing installation: jax 0.3.6\n",
      "    Uninstalling jax-0.3.6:\n",
      "      Successfully uninstalled jax-0.3.6\n",
      "Successfully installed jax-0.4.13\n"
     ]
    }
   ],
   "source": [
    "!pip install tensorflow"
   ]
  },
  {
   "cell_type": "code",
   "execution_count": null,
   "id": "59ba07e0-d586-4650-b4ec-f2ed6bc57e00",
   "metadata": {},
   "outputs": [],
   "source": []
  },
  {
   "cell_type": "markdown",
   "id": "9f48e54f-11ae-4dfc-a48e-0af43fda3bb5",
   "metadata": {},
   "source": [
    "## Load and Parse SQuaD v2.0"
   ]
  },
  {
   "cell_type": "code",
   "execution_count": 13,
   "id": "709b2704-5472-4f53-aa32-9bf611ee913e",
   "metadata": {},
   "outputs": [],
   "source": [
    "import pandas as pd"
   ]
  },
  {
   "cell_type": "code",
   "execution_count": 14,
   "id": "3be4c61b-269a-401b-aa6f-2b664eb16fd2",
   "metadata": {},
   "outputs": [],
   "source": [
    "from datasets import load_dataset"
   ]
  },
  {
   "cell_type": "code",
   "execution_count": 15,
   "id": "41e741d8-4195-4576-94f9-978cbdc3a75b",
   "metadata": {},
   "outputs": [
    {
     "name": "stderr",
     "output_type": "stream",
     "text": [
      "<ipython-input-15-3799dfbcef90>:2: FutureWarning: list_datasets is deprecated and will be removed in the next major version of datasets. Use 'huggingface_hub.list_datasets' instead.\n",
      "  datasets_list = list_datasets()\n"
     ]
    },
    {
     "data": {
      "text/plain": [
       "46288"
      ]
     },
     "execution_count": 15,
     "metadata": {},
     "output_type": "execute_result"
    }
   ],
   "source": [
    "from datasets import list_datasets\n",
    "datasets_list = list_datasets()\n",
    "len(datasets_list)"
   ]
  },
  {
   "cell_type": "code",
   "execution_count": 16,
   "id": "cf6c3c87-d351-486c-b271-1fada23e38ee",
   "metadata": {},
   "outputs": [],
   "source": [
    "# print(', '.join(dataset for dataset in datasets_list))"
   ]
  },
  {
   "cell_type": "code",
   "execution_count": 17,
   "id": "1b330f0c-2bba-472e-adf0-767898711d65",
   "metadata": {},
   "outputs": [
    {
     "name": "stderr",
     "output_type": "stream",
     "text": [
      "Found cached dataset squad_v2 (/Users/jingzhu/.cache/huggingface/datasets/squad_v2/squad_v2/2.0.0/09187c73c1b837c95d9a249cd97c2c3f1cebada06efe667b4427714b27639b1d)\n"
     ]
    },
    {
     "data": {
      "application/vnd.jupyter.widget-view+json": {
       "model_id": "0c9d56ed3bf642a8adb4c71a48d6f08b",
       "version_major": 2,
       "version_minor": 0
      },
      "text/plain": [
       "  0%|          | 0/2 [00:00<?, ?it/s]"
      ]
     },
     "metadata": {},
     "output_type": "display_data"
    }
   ],
   "source": [
    "# Load dataset SQuaD V2.0 from HuggingFace\n",
    "from datasets import load_dataset\n",
    "dataset = load_dataset('squad_v2')"
   ]
  },
  {
   "cell_type": "code",
   "execution_count": 18,
   "id": "3ee3d108-bbdc-47a8-97c8-f54a1f90000d",
   "metadata": {},
   "outputs": [
    {
     "data": {
      "text/plain": [
       "DatasetDict({\n",
       "    train: Dataset({\n",
       "        features: ['id', 'title', 'context', 'question', 'answers'],\n",
       "        num_rows: 130319\n",
       "    })\n",
       "    validation: Dataset({\n",
       "        features: ['id', 'title', 'context', 'question', 'answers'],\n",
       "        num_rows: 11873\n",
       "    })\n",
       "})"
      ]
     },
     "execution_count": 18,
     "metadata": {},
     "output_type": "execute_result"
    }
   ],
   "source": [
    "dataset"
   ]
  },
  {
   "cell_type": "code",
   "execution_count": 19,
   "id": "1ada7e2c-7b8f-4e9a-81b1-ff170762a2fa",
   "metadata": {},
   "outputs": [
    {
     "name": "stderr",
     "output_type": "stream",
     "text": [
      "Found cached dataset json (/Users/jingzhu/.cache/huggingface/datasets/json/default-69be102654134f09/0.0.0/8bb11242116d547c741b2e8a1f18598ffdd40a1d4f2a2872c7a28b697434bc96)\n"
     ]
    },
    {
     "data": {
      "application/vnd.jupyter.widget-view+json": {
       "model_id": "77c04447bb7b449e8dc38c9979222390",
       "version_major": 2,
       "version_minor": 0
      },
      "text/plain": [
       "  0%|          | 0/1 [00:00<?, ?it/s]"
      ]
     },
     "metadata": {},
     "output_type": "display_data"
    }
   ],
   "source": [
    "# Load dataset SQuaD V2.0 from local files downloaded from:\n",
    "# https://rajpurkar.github.io/SQuAD-explorer/\n",
    "dataset = load_dataset('json', data_files='Data/SQuaD/dev-v2.0.json', field='data')"
   ]
  },
  {
   "cell_type": "code",
   "execution_count": 20,
   "id": "3cc93a98-a166-452c-9e42-04e5d5977605",
   "metadata": {},
   "outputs": [
    {
     "data": {
      "text/plain": [
       "DatasetDict({\n",
       "    train: Dataset({\n",
       "        features: ['title', 'paragraphs'],\n",
       "        num_rows: 35\n",
       "    })\n",
       "})"
      ]
     },
     "execution_count": 20,
     "metadata": {},
     "output_type": "execute_result"
    }
   ],
   "source": [
    "dataset"
   ]
  },
  {
   "cell_type": "code",
   "execution_count": 21,
   "id": "4d006f88-2038-4278-8d63-491420ebd729",
   "metadata": {},
   "outputs": [
    {
     "data": {
      "text/plain": [
       "Dataset({\n",
       "    features: ['title', 'paragraphs'],\n",
       "    num_rows: 35\n",
       "})"
      ]
     },
     "execution_count": 21,
     "metadata": {},
     "output_type": "execute_result"
    }
   ],
   "source": [
    "dataset['train']"
   ]
  },
  {
   "cell_type": "code",
   "execution_count": 22,
   "id": "2dde3d4a-1258-494e-be35-0faa0c896094",
   "metadata": {},
   "outputs": [],
   "source": [
    "# Convert SQuaD json file into a pandas dataframe for easy viewing\n",
    "\n",
    "import json\n",
    "import pandas as pd\n",
    "\n",
    "# Load the SQuAD JSON file\n",
    "with open('Data/SQuaD/dev-v2.0.json', 'r') as f:\n",
    "    squad_data = json.load(f)\n",
    "\n",
    "# Initialize lists to store the extracted data\n",
    "titles = []\n",
    "contexts = []\n",
    "questions = []\n",
    "answers = []\n",
    "versions = []\n",
    "ids = []\n",
    "is_impossible_list = []\n",
    "\n",
    "# Extract the data from the nested structure            \n",
    "data = squad_data['data']\n",
    "for entry in data:\n",
    "    title = entry['title']\n",
    "    paragraphs = entry['paragraphs']\n",
    "    for paragraph in paragraphs:\n",
    "        context = paragraph['context']\n",
    "        qas = paragraph['qas']\n",
    "        for qa in qas:\n",
    "            question = qa['question']\n",
    "            id = qa['id']\n",
    "            answer_texts = [answer['text'] for answer in qa['answers']]\n",
    "            version = squad_data['version']\n",
    "            is_impossible = qa['is_impossible']\n",
    "            \n",
    "            # Append the extracted data to the lists\n",
    "            titles.append(title)\n",
    "            contexts.append(context)\n",
    "            questions.append(question)\n",
    "            answers.append(answer_texts)\n",
    "            versions.append(version)\n",
    "            ids.append(id)\n",
    "            is_impossible_list.append(is_impossible)\n",
    "            \n",
    "# Create a pandas DataFrame from the extracted data\n",
    "df = pd.DataFrame({\n",
    "    'Version': versions,\n",
    "    'Id': ids,\n",
    "    'Title': titles,\n",
    "    'Context': contexts,\n",
    "    'Question': questions,\n",
    "    'Answer': answers,\n",
    "    'Is Impossible': is_impossible_list\n",
    "})"
   ]
  },
  {
   "cell_type": "code",
   "execution_count": 23,
   "id": "86950a20-aa14-4b13-b073-5082d3b66c6d",
   "metadata": {},
   "outputs": [
    {
     "data": {
      "text/html": [
       "<div>\n",
       "<style scoped>\n",
       "    .dataframe tbody tr th:only-of-type {\n",
       "        vertical-align: middle;\n",
       "    }\n",
       "\n",
       "    .dataframe tbody tr th {\n",
       "        vertical-align: top;\n",
       "    }\n",
       "\n",
       "    .dataframe thead th {\n",
       "        text-align: right;\n",
       "    }\n",
       "</style>\n",
       "<table border=\"1\" class=\"dataframe\">\n",
       "  <thead>\n",
       "    <tr style=\"text-align: right;\">\n",
       "      <th></th>\n",
       "      <th>Version</th>\n",
       "      <th>Id</th>\n",
       "      <th>Title</th>\n",
       "      <th>Context</th>\n",
       "      <th>Question</th>\n",
       "      <th>Answer</th>\n",
       "      <th>Is Impossible</th>\n",
       "    </tr>\n",
       "  </thead>\n",
       "  <tbody>\n",
       "    <tr>\n",
       "      <th>0</th>\n",
       "      <td>v2.0</td>\n",
       "      <td>56ddde6b9a695914005b9628</td>\n",
       "      <td>Normans</td>\n",
       "      <td>The Normans (Norman: Nourmands; French: Norman...</td>\n",
       "      <td>In what country is Normandy located?</td>\n",
       "      <td>[France, France, France, France]</td>\n",
       "      <td>False</td>\n",
       "    </tr>\n",
       "    <tr>\n",
       "      <th>1</th>\n",
       "      <td>v2.0</td>\n",
       "      <td>56ddde6b9a695914005b9629</td>\n",
       "      <td>Normans</td>\n",
       "      <td>The Normans (Norman: Nourmands; French: Norman...</td>\n",
       "      <td>When were the Normans in Normandy?</td>\n",
       "      <td>[10th and 11th centuries, in the 10th and 11th...</td>\n",
       "      <td>False</td>\n",
       "    </tr>\n",
       "    <tr>\n",
       "      <th>2</th>\n",
       "      <td>v2.0</td>\n",
       "      <td>56ddde6b9a695914005b962a</td>\n",
       "      <td>Normans</td>\n",
       "      <td>The Normans (Norman: Nourmands; French: Norman...</td>\n",
       "      <td>From which countries did the Norse originate?</td>\n",
       "      <td>[Denmark, Iceland and Norway, Denmark, Iceland...</td>\n",
       "      <td>False</td>\n",
       "    </tr>\n",
       "    <tr>\n",
       "      <th>3</th>\n",
       "      <td>v2.0</td>\n",
       "      <td>56ddde6b9a695914005b962b</td>\n",
       "      <td>Normans</td>\n",
       "      <td>The Normans (Norman: Nourmands; French: Norman...</td>\n",
       "      <td>Who was the Norse leader?</td>\n",
       "      <td>[Rollo, Rollo, Rollo, Rollo]</td>\n",
       "      <td>False</td>\n",
       "    </tr>\n",
       "    <tr>\n",
       "      <th>4</th>\n",
       "      <td>v2.0</td>\n",
       "      <td>56ddde6b9a695914005b962c</td>\n",
       "      <td>Normans</td>\n",
       "      <td>The Normans (Norman: Nourmands; French: Norman...</td>\n",
       "      <td>What century did the Normans first gain their ...</td>\n",
       "      <td>[10th century, the first half of the 10th cent...</td>\n",
       "      <td>False</td>\n",
       "    </tr>\n",
       "  </tbody>\n",
       "</table>\n",
       "</div>"
      ],
      "text/plain": [
       "  Version                        Id    Title  \\\n",
       "0    v2.0  56ddde6b9a695914005b9628  Normans   \n",
       "1    v2.0  56ddde6b9a695914005b9629  Normans   \n",
       "2    v2.0  56ddde6b9a695914005b962a  Normans   \n",
       "3    v2.0  56ddde6b9a695914005b962b  Normans   \n",
       "4    v2.0  56ddde6b9a695914005b962c  Normans   \n",
       "\n",
       "                                             Context  \\\n",
       "0  The Normans (Norman: Nourmands; French: Norman...   \n",
       "1  The Normans (Norman: Nourmands; French: Norman...   \n",
       "2  The Normans (Norman: Nourmands; French: Norman...   \n",
       "3  The Normans (Norman: Nourmands; French: Norman...   \n",
       "4  The Normans (Norman: Nourmands; French: Norman...   \n",
       "\n",
       "                                            Question  \\\n",
       "0               In what country is Normandy located?   \n",
       "1                 When were the Normans in Normandy?   \n",
       "2      From which countries did the Norse originate?   \n",
       "3                          Who was the Norse leader?   \n",
       "4  What century did the Normans first gain their ...   \n",
       "\n",
       "                                              Answer  Is Impossible  \n",
       "0                   [France, France, France, France]          False  \n",
       "1  [10th and 11th centuries, in the 10th and 11th...          False  \n",
       "2  [Denmark, Iceland and Norway, Denmark, Iceland...          False  \n",
       "3                       [Rollo, Rollo, Rollo, Rollo]          False  \n",
       "4  [10th century, the first half of the 10th cent...          False  "
      ]
     },
     "execution_count": 23,
     "metadata": {},
     "output_type": "execute_result"
    }
   ],
   "source": [
    "# Display the DataFrame\n",
    "df.head()"
   ]
  },
  {
   "cell_type": "code",
   "execution_count": 24,
   "id": "1c9cabaf-48eb-462f-a520-f659b9062feb",
   "metadata": {},
   "outputs": [
    {
     "data": {
      "text/plain": [
       "(11873, 7)"
      ]
     },
     "execution_count": 24,
     "metadata": {},
     "output_type": "execute_result"
    }
   ],
   "source": [
    "df.shape"
   ]
  },
  {
   "cell_type": "code",
   "execution_count": 25,
   "id": "d76e7e94-6b3f-4f94-a8ff-8057d67f6393",
   "metadata": {},
   "outputs": [],
   "source": [
    "# df.to_csv('Data/SQuaD/dev-v2.0.csv')"
   ]
  },
  {
   "cell_type": "code",
   "execution_count": null,
   "id": "0a8cb9f8-625a-43f1-85b2-09facc0ecf81",
   "metadata": {},
   "outputs": [],
   "source": []
  }
 ],
 "metadata": {
  "kernelspec": {
   "display_name": "llm",
   "language": "python",
   "name": "llm"
  },
  "language_info": {
   "codemirror_mode": {
    "name": "ipython",
    "version": 3
   },
   "file_extension": ".py",
   "mimetype": "text/x-python",
   "name": "python",
   "nbconvert_exporter": "python",
   "pygments_lexer": "ipython3",
   "version": "3.8.8"
  }
 },
 "nbformat": 4,
 "nbformat_minor": 5
}
